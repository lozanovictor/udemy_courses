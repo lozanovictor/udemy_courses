{
 "cells": [
  {
   "cell_type": "code",
   "execution_count": 1,
   "id": "33a28e01",
   "metadata": {},
   "outputs": [
    {
     "name": "stdout",
     "output_type": "stream",
     "text": [
      "Hello World!\n"
     ]
    }
   ],
   "source": [
    "print (\"Hello World!\")"
   ]
  },
  {
   "cell_type": "code",
   "execution_count": null,
   "id": "f8d95c1b",
   "metadata": {},
   "outputs": [],
   "source": []
  },
  {
   "cell_type": "code",
   "execution_count": 2,
   "id": "845e586a",
   "metadata": {},
   "outputs": [
    {
     "name": "stdout",
     "output_type": "stream",
     "text": [
      "4\n",
      "0\n",
      "4\n",
      "1.0\n",
      "8\n",
      "1\n"
     ]
    }
   ],
   "source": [
    "#operadores\n",
    "print (2+2)\n",
    "print (2-2)\n",
    "print (2*2)\n",
    "print (2/2)\n",
    "print (2**3) #potencia\n",
    "print (10%3) #resto"
   ]
  },
  {
   "cell_type": "code",
   "execution_count": 3,
   "id": "c2dbe72d",
   "metadata": {},
   "outputs": [
    {
     "name": "stdout",
     "output_type": "stream",
     "text": [
      "Hello World\n"
     ]
    }
   ],
   "source": [
    "#variaveis\n",
    "variavel = \"Hello World\"\n",
    "print (variavel)"
   ]
  },
  {
   "cell_type": "code",
   "execution_count": 4,
   "id": "07ead4f7",
   "metadata": {},
   "outputs": [
    {
     "name": "stdout",
     "output_type": "stream",
     "text": [
      "False\n",
      "True\n",
      "False\n",
      "True\n"
     ]
    }
   ],
   "source": [
    "#operadores relaconais \n",
    "# == igual\n",
    "# != diferente\n",
    "# > maior\n",
    "# < menor\n",
    "# <=\n",
    "# >=\n",
    "\n",
    "x=2\n",
    "y=3\n",
    "\n",
    "print (x == y)\n",
    "print (x != y)\n",
    "print (x > y)\n",
    "print (x < y)"
   ]
  },
  {
   "cell_type": "code",
   "execution_count": 5,
   "id": "4ed2d784",
   "metadata": {},
   "outputs": [
    {
     "name": "stdout",
     "output_type": "stream",
     "text": [
      "False\n",
      "False\n",
      "False\n",
      "True\n"
     ]
    }
   ],
   "source": [
    "#Operadores Lógicos\n",
    "# AND\n",
    "# OR\n",
    "# NOT\n",
    "\n",
    "x=2\n",
    "y=3\n",
    "z=3\n",
    "\n",
    "print (x==y and x==z)\n",
    "print (x==y or x==z)\n",
    "print (y==x and y==z)\n",
    "print (y==x or y==z)"
   ]
  },
  {
   "cell_type": "code",
   "execution_count": 6,
   "id": "1beccdaa",
   "metadata": {},
   "outputs": [
    {
     "name": "stdout",
     "output_type": "stream",
     "text": [
      "2\n"
     ]
    }
   ],
   "source": [
    "#Condicionais\n",
    "#IF\n",
    "# if (condição):\n",
    "#     codigo\n",
    "\n",
    "x=2\n",
    "y=3\n",
    "\n",
    "if (x>y):\n",
    "    print (x)\n",
    "if (y>x):\n",
    "    print (x)"
   ]
  },
  {
   "cell_type": "code",
   "execution_count": 7,
   "id": "9027d50c",
   "metadata": {},
   "outputs": [
    {
     "name": "stdout",
     "output_type": "stream",
     "text": [
      "não era kkkkkk\n"
     ]
    }
   ],
   "source": [
    "#Condicionais\n",
    "#IF\n",
    "# if (condição):\n",
    "#     codigo\n",
    "# else:\n",
    "#     codigo\n",
    "\n",
    "x=2\n",
    "y=3\n",
    "\n",
    "if (x>y):\n",
    "    print (x)\n",
    "else:\n",
    "    print (\"não era kkkkkk\")"
   ]
  },
  {
   "cell_type": "code",
   "execution_count": 8,
   "id": "5bc10c98",
   "metadata": {},
   "outputs": [
    {
     "name": "stdout",
     "output_type": "stream",
     "text": [
      "maior\n"
     ]
    }
   ],
   "source": [
    "#Condicionais\n",
    "#IF\n",
    "# if (condição):\n",
    "#     codigo\n",
    "# elif (condição):\n",
    "#     código\n",
    "# else:\n",
    "#     codigo\n",
    "\n",
    "x=2\n",
    "y=3\n",
    "\n",
    "if (x==y):\n",
    "    print (\"iguais\")\n",
    "elif (y>x):\n",
    "    print (\"maior\")\n",
    "else:\n",
    "    print (\"diferentes\")"
   ]
  },
  {
   "cell_type": "code",
   "execution_count": 9,
   "id": "904812e3",
   "metadata": {},
   "outputs": [
    {
     "name": "stdout",
     "output_type": "stream",
     "text": [
      "1\n",
      "2\n",
      "3\n",
      "4\n",
      "5\n",
      "6\n",
      "7\n",
      "8\n",
      "9\n",
      "10\n"
     ]
    }
   ],
   "source": [
    "#Laços\n",
    "# WHILE\n",
    "# while (condição falsa):\n",
    "#     codigo\n",
    "\n",
    "x=1\n",
    "while (x<=10):\n",
    "    print (x)\n",
    "    x=x+1"
   ]
  },
  {
   "cell_type": "code",
   "execution_count": 10,
   "id": "f11f5d15",
   "metadata": {},
   "outputs": [
    {
     "name": "stdout",
     "output_type": "stream",
     "text": [
      "1\n",
      "2\n",
      "3\n",
      "4\n",
      "5\n",
      "6\n",
      "7\n",
      "10\n",
      "11\n",
      "12\n",
      "13\n",
      "14\n",
      "15\n",
      "16\n",
      "17\n",
      "18\n",
      "19\n"
     ]
    }
   ],
   "source": [
    "#laços\n",
    "#FOR\n",
    "#for (variavel) in (array)\n",
    "#    codigo\n",
    "i=2\n",
    "array = [1,2,3,4,5,6,7]\n",
    "for i in array:\n",
    "    print (i)\n",
    "#for (variavel) in range(começo, fim):\n",
    "#    codigo\n",
    "\n",
    "for i in range(10,20):\n",
    "    print (i)"
   ]
  },
  {
   "cell_type": "code",
   "execution_count": 11,
   "id": "295a86d2",
   "metadata": {},
   "outputs": [
    {
     "name": "stdout",
     "output_type": "stream",
     "text": [
      "10\n",
      "12\n",
      "14\n",
      "16\n",
      "18\n"
     ]
    }
   ],
   "source": [
    "for i in range(10,20,2):\n",
    "    print (i)"
   ]
  },
  {
   "cell_type": "code",
   "execution_count": 12,
   "id": "aba8e195",
   "metadata": {},
   "outputs": [
    {
     "name": "stdout",
     "output_type": "stream",
     "text": [
      "VictorHugo\n",
      "Victor Hugo\n",
      "\n",
      "12\n",
      "Victor\n",
      "Vic\n",
      "Victor Hugo\n",
      "\n",
      "victor hugo\n",
      "\n",
      "VICTOR HUGO\n",
      "\n",
      "Victor Hugo\n",
      "['Victor', 'Hugo']\n",
      "['O ', 'ato ', 'oeu a ', 'oupa do Rei de Roma']\n",
      "23\n",
      "-1\n",
      "O rato roeu a roupa da Rainha de Roma\n"
     ]
    }
   ],
   "source": [
    "#Strings#\n",
    "#declarado entre aspas ou apostrofos\n",
    "#var1=\"1\" #string\n",
    "#var2=1 #numeral\n",
    "a = \"Victor\"\n",
    "b = \"Hugo\"\n",
    "concat = a+b\n",
    "print(concat)\n",
    "concat = a + \" \" + b + \"\\n\"\n",
    "print (concat)\n",
    "\n",
    "tamanho = len(concat)\n",
    "print (tamanho)\n",
    "\n",
    "print(concat[0:6])\n",
    "print(concat[0:3])\n",
    "print(concat[0:])\n",
    "print(concat.lower()) #.método adiciona um metodo no objeto\n",
    "print(concat.upper())\n",
    "print(concat.strip())\n",
    "print(concat.split())\n",
    "rato= \"O rato roeu a roupa do Rei de Roma\"\n",
    "print(rato.split(\"r\"))\n",
    "busca = rato.find(\"Rei\")\n",
    "print(busca)\n",
    "busca = rato.find(\"rainha\")\n",
    "print(busca)\n",
    "print(rato.replace(\"o Rei\", \"a Rainha\"))"
   ]
  },
  {
   "cell_type": "code",
   "execution_count": 13,
   "id": "cf5b58d5",
   "metadata": {},
   "outputs": [
    {
     "name": "stdout",
     "output_type": "stream",
     "text": [
      "5\n",
      "6\n",
      "30\n"
     ]
    }
   ],
   "source": [
    "#funções\n",
    "#palavra reservada def\n",
    "#declarar no começo do código\n",
    "\n",
    "def soma(x, y):\n",
    "    return(x+y)\n",
    "\n",
    "s = soma(2, 3)\n",
    "print(s)\n",
    "\n",
    "def mult (x, y):\n",
    "    return(x*y)\n",
    "\n",
    "m = mult(2, 3)\n",
    "print(m)\n",
    "\n",
    "print (m*s)"
   ]
  },
  {
   "cell_type": "code",
   "execution_count": 14,
   "id": "0b8e20d1",
   "metadata": {},
   "outputs": [
    {
     "name": "stdout",
     "output_type": "stream",
     "text": [
      "hello world!\n"
     ]
    }
   ],
   "source": [
    "#arquivos\n",
    "# variavel = open(nome_do_arquivo, modo)\n",
    "#modos\n",
    "# r - somente leitura (automatico se nada for declarado)\n",
    "# w - escrita (começa do zero sempre, apagando caso já exista)\n",
    "# a - escrita no final do arquivo\n",
    "# r+ - leitura e escrita\n",
    "# w+ - igual o w\n",
    "# a+ - abre o arquivo para atualização\n",
    "\n",
    "arquivo = open(\"texto.txt\")\n",
    "\n",
    "print(arquivo.read())\n",
    "\n",
    "arquivo2 = open(\"arquivo2.txt\", \"w\")\n",
    "arquivo2.write(\"Hello World!\")\n",
    "arquivo2.close()"
   ]
  },
  {
   "cell_type": "code",
   "execution_count": 15,
   "id": "4a735dbc",
   "metadata": {},
   "outputs": [
    {
     "name": "stdout",
     "output_type": "stream",
     "text": [
      "maça\n",
      "abacaxi\n",
      "2\n",
      "9.6\n",
      "True\n",
      "3\n",
      "abacaxi\n",
      "banana\n",
      "maça\n",
      "limão\n"
     ]
    }
   ],
   "source": [
    "#listas\n",
    "minha_lista = [\"abacaxi\", \"banana\", \"maça\"]\n",
    "minha_lista2 = [1,2,3,4]\n",
    "minha_lista3 = [\"abacaxi\", 2, 9.6, True]\n",
    "\n",
    "print(minha_lista[2])\n",
    "\n",
    "for item in minha_lista3:\n",
    "    print(item)\n",
    "    \n",
    "tamanho = len(minha_lista)\n",
    "print (tamanho)\n",
    "\n",
    "minha_lista.append(\"limão\")\n",
    "for item in minha_lista:\n",
    "    print(item)"
   ]
  },
  {
   "cell_type": "code",
   "execution_count": 5,
   "id": "9c2bf763",
   "metadata": {},
   "outputs": [
    {
     "name": "stdout",
     "output_type": "stream",
     "text": [
      "[999, 558, 159, 65, 44, 36, 20, 11, 6, 3, 3, 1]\n",
      "[1, 3, 3, 6, 11, 20, 36, 44, 65, 159, 558, 999]\n",
      "[999, 558, 159, 65, 44, 36, 20, 11, 6, 3, 3, 1]\n",
      "['abacaxi', 'bola', 'money']\n"
     ]
    }
   ],
   "source": [
    "lista = [159,65,36,558,44,20,3,11,1,3,6,999]\n",
    "lista.sort(reverse=True)\n",
    "print(lista)\n",
    "lista.sort()\n",
    "print(lista)\n",
    "lista.reverse()\n",
    "print(lista)\n",
    "\n",
    "lista2 = [\"bola\", \"abacaxi\", \"money\"]\n",
    "lista2.sort()\n",
    "print(lista2)"
   ]
  },
  {
   "cell_type": "code",
   "execution_count": 10,
   "id": "894d48b2",
   "metadata": {},
   "outputs": [
    {
     "name": "stdout",
     "output_type": "stream",
     "text": [
      "{'A': 'ameixa', 'B': 'banana', 'C': 'caju'}\n",
      "ameixa\n",
      "ameixa\n",
      "banana\n",
      "caju\n",
      "('A', 'ameixa')\n",
      "('B', 'banana')\n",
      "('C', 'caju')\n",
      "ameixa\n",
      "banana\n",
      "caju\n",
      "A\n",
      "B\n",
      "C\n"
     ]
    }
   ],
   "source": [
    "#Dicionarios\n",
    "#listas de associações\n",
    "#nome_do_dicionario = {\"nome\": \"referencia\"}\n",
    "#sempre com chave\n",
    "\n",
    "dicionario = {\"A\": \"ameixa\", \"B\": \"banana\", \"C\":\"caju\"}\n",
    "print(dicionario)\n",
    "print(dicionario[\"A\"])\n",
    "for chave in dicionario:\n",
    "    print(dicionario[chave])\n",
    "    \n",
    "for i in dicionario.items():\n",
    "    print(i)\n",
    "\n",
    "for i in dicionario.values():\n",
    "    print(i)\n",
    "    \n",
    "for i in dicionario.keys():\n",
    "    print(i)"
   ]
  },
  {
   "cell_type": "code",
   "execution_count": 14,
   "id": "580fdafb",
   "metadata": {},
   "outputs": [
    {
     "name": "stdout",
     "output_type": "stream",
     "text": [
      "7\n",
      "978\n"
     ]
    }
   ],
   "source": [
    "#numeros aleatorios\n",
    "#vem de biblioteca\n",
    "#tem que importar sempre\n",
    "\n",
    "import random\n",
    "\n",
    "numero = random.randint(0, 10)\n",
    "print(numero)\n",
    "\n",
    "lista = [6,99,978,97]\n",
    "numero2 = random.choice(lista)\n",
    "print(numero2)"
   ]
  },
  {
   "cell_type": "code",
   "execution_count": 16,
   "id": "312dfb40",
   "metadata": {},
   "outputs": [
    {
     "name": "stdout",
     "output_type": "stream",
     "text": [
      "Não divide por zero sua anta!\n"
     ]
    }
   ],
   "source": [
    "#tratamento de excessoes\n",
    "\n",
    "a=2\n",
    "b=0\n",
    "\n",
    "try:\n",
    "    print(a/b) #divisão por zero sempre da erro\n",
    "except:\n",
    "    print(\"Não divide por zero sua anta!\")"
   ]
  },
  {
   "cell_type": "code",
   "execution_count": null,
   "id": "c717137c",
   "metadata": {},
   "outputs": [],
   "source": [
    "#diferenças entre o 2 e o 3\n",
    "#print tem parenteses obrigatorio na versão 3\n",
    "#input tem 2 variações no 2\n",
    "##raw_input() pra strings\n",
    "##input() pra numericos\n",
    "#no 3 o input precisa do formato dos numeros antes\n",
    "##numero_float = float(input(\"numero aqui\"))\n",
    "##numero_inteiro = int(input(\"numero aqui\"))"
   ]
  },
  {
   "cell_type": "code",
   "execution_count": 22,
   "id": "216d5362",
   "metadata": {},
   "outputs": [
    {
     "name": "stdout",
     "output_type": "stream",
     "text": [
      "Digite a idade do usuario:16\n",
      "Usuario é menor de idade\n"
     ]
    }
   ],
   "source": [
    "#exercicios\n",
    "#Faça um programa que receba a idade do usuário e diga se ele é maior ou menor de idade.\n",
    "\n",
    "idade = int(input(\"Digite a idade do usuario:\"))\n",
    "\n",
    "if (idade<18):\n",
    "    print(\"Usuario é menor de idade\")\n",
    "else:\n",
    "    print(\"Usuario é maior de idade\")"
   ]
  },
  {
   "cell_type": "code",
   "execution_count": 27,
   "id": "106030ba",
   "metadata": {},
   "outputs": [
    {
     "name": "stdout",
     "output_type": "stream",
     "text": [
      "Calculadora de médias\n",
      "Digite a primeira nota:3\n",
      "Digite a segunda nota:3\n",
      "Reprovado!\n",
      "Sua média é: 3.0\n"
     ]
    }
   ],
   "source": [
    "#Faça um programa que receba duas notas digitadas pelo usuário. \n",
    "#Se a nota for maior ou igual a seis, escreva aprovado, senão escreva reprovado.   \n",
    "#ELES QUEREM A MÉDIA, MAS CAI A MÃO SE ATUALIZAR O ENUNCIADO DA QUESTÃO\n",
    "\n",
    "print(\"Calculadora de médias\")\n",
    "\n",
    "nota1 = float(input(\"Digite a primeira nota:\"))\n",
    "nota2 = float(input(\"Digite a segunda nota:\"))\n",
    "media = ((nota1+nota2)/2)\n",
    "\n",
    "if(media>=6):\n",
    "    print(\"Aprovado!\")\n",
    "else:\n",
    "    print(\"Reprovado!\")\n",
    "    \n",
    "print(\"Sua média é:\", media)"
   ]
  },
  {
   "cell_type": "code",
   "execution_count": 32,
   "id": "95e39a6f",
   "metadata": {},
   "outputs": [
    {
     "name": "stdout",
     "output_type": "stream",
     "text": [
      "Digite o valor de A:2\n",
      "Digite o valor de B:1\n",
      "Digite o valor de C:0\n",
      "As raizes são  1.0 e  -1.0\n"
     ]
    }
   ],
   "source": [
    "#Escreva um programa que resolva uma equação de segundo grau.   \n",
    "#LITERLMENTE ACHAR AS RAIZES DA EQUAÇÃO (X1 E X2)\n",
    "from math import sqrt\n",
    "\n",
    "A = int(input(\"Digite o valor de A:\"))\n",
    "B = int(input(\"Digite o valor de B:\"))\n",
    "C = int(input(\"Digite o valor de C:\"))\n",
    "\n",
    "delta = B**2 - 4*A*C\n",
    "\n",
    "if (delta<0):\n",
    "    print (\"Delta negativo, não exitem raizes reais\")\n",
    "else:\n",
    "    raizdelta = sqrt(delta)\n",
    "    x1=(-b+raizdelta)/2*a\n",
    "    x2=(-b-raizdelta)/2*a\n",
    "    print(\"As raizes em x são \", x1 ,\"e \", x2)"
   ]
  },
  {
   "cell_type": "code",
   "execution_count": 33,
   "id": "d8ee0e2f",
   "metadata": {},
   "outputs": [
    {
     "name": "stdout",
     "output_type": "stream",
     "text": [
      "[1, 2, 3, 6, 8, 9, 45, 99, 5455]\n"
     ]
    }
   ],
   "source": [
    "#Escreva um programa que ordene uma lista numérica com três elementos.   \n",
    "#NÃO PRECISA RECEBER A LISTA, PODE DECLARAR\n",
    "\n",
    "lista = [6,8,9,99,5455,1,2,3,45]\n",
    "print(sorted(lista))"
   ]
  },
  {
   "cell_type": "code",
   "execution_count": 40,
   "id": "1e775c41",
   "metadata": {},
   "outputs": [
    {
     "name": "stdout",
     "output_type": "stream",
     "text": [
      "Calculadora simples\n",
      "\n",
      "Digite o primeiro numero:2\n",
      "Digite o segundo numero:2\n",
      "Digite o sinal da operação:/\n",
      "1.0\n"
     ]
    }
   ],
   "source": [
    "# Escreva um programa que receba dois números e um sinal, e faça a operação matemática definida pelo sinal.   \n",
    "\n",
    "print(\"Calculadora simples\\n\")\n",
    "\n",
    "n1 = int(input(\"Digite o primeiro numero:\"))\n",
    "n2 = int(input(\"Digite o segundo numero:\"))\n",
    "sinal = input(\"Digite o sinal da operação:\")\n",
    "\n",
    "if (sinal==\"+\"):\n",
    "    print(n1+n2)\n",
    "elif (sinal==\"-\"):\n",
    "    print(n1-n2)\n",
    "elif (sinal==\"*\"):\n",
    "    print(n1*n2)\n",
    "elif (sinal==\"/\"):\n",
    "    print(n1/n2)\n",
    "else:\n",
    "    print(\"Sinal invalido o bestão\")"
   ]
  },
  {
   "cell_type": "code",
   "execution_count": 42,
   "id": "3e898262",
   "metadata": {},
   "outputs": [
    {
     "name": "stdout",
     "output_type": "stream",
     "text": [
      "[1, 2, 3, 4, 5]\n",
      "[1, 4, 9, 16, 25]\n",
      "[1, 3, 5]\n"
     ]
    }
   ],
   "source": [
    "#list comprehension\n",
    "\n",
    "x = [1,2,3,4,5]\n",
    "#y = []\n",
    "#POTENCIAÇÃO COM TODOS OS ITENS DA LISTA X EM Y\n",
    "#SERIA ASSIM\n",
    "#for i in x:\n",
    "#    y.append(i**2)\n",
    "\n",
    "#MAS É ASSIM\n",
    "\n",
    "y = [i**2 for i in x]\n",
    "print(x)\n",
    "print(y)\n",
    "\n",
    "#ADICIONAR CONDICIONALMENTE DE X EM Z\n",
    "#COLOCANDO OS IMPARES\n",
    "z = [i for i in x if i%2==1]\n",
    "print(z)"
   ]
  },
  {
   "cell_type": "code",
   "execution_count": 43,
   "id": "c6da8804",
   "metadata": {},
   "outputs": [
    {
     "name": "stdout",
     "output_type": "stream",
     "text": [
      "0 aba\n",
      "1 bola\n",
      "2 carro\n"
     ]
    }
   ],
   "source": [
    "#enumerate\n",
    "#MOSTRA OS INDICES\n",
    "\n",
    "lista = [\"aba\", \"bola\", \"carro\"]\n",
    "\n",
    "#SERIA ASSIM\n",
    "#for i in range(len(lista)):\n",
    "#     print(i, lista[i])\n",
    "\n",
    "#MAS É COM ENUMERATE\n",
    "\n",
    "for i, nome in enumerate(lista):\n",
    "    print(i, nome)"
   ]
  },
  {
   "cell_type": "code",
   "execution_count": 48,
   "id": "bab56b1d",
   "metadata": {},
   "outputs": [
    {
     "name": "stdout",
     "output_type": "stream",
     "text": [
      "[2, 4, 6, 8, 10]\n"
     ]
    }
   ],
   "source": [
    "#map\n",
    "#APLICA UMA FUNÇÃO A TODOS OS ELEMENTOS DE UMA LISTA\n",
    "\n",
    "def dobro(x):\n",
    "    return x*2\n",
    "\n",
    "valor=[1,2,3,4,5]\n",
    "dobre = map(dobro, valor)\n",
    "dobre2 = list(dobre)\n",
    "print(dobre2)"
   ]
  },
  {
   "cell_type": "code",
   "execution_count": 49,
   "id": "7ae55637",
   "metadata": {},
   "outputs": [
    {
     "name": "stdout",
     "output_type": "stream",
     "text": [
      "15\n"
     ]
    }
   ],
   "source": [
    "#reduce\n",
    "#TEM QUE IMPORTAR DA functools\n",
    "#RETORNA UM UNICO VALOR PRA UMA LISTA\n",
    "from functools import reduce\n",
    "\n",
    "def soma(x,y):\n",
    "    return x+y\n",
    "\n",
    "lista = [1,2,3,4,5]\n",
    "soma = reduce(soma, lista)\n",
    "print(soma)"
   ]
  },
  {
   "cell_type": "code",
   "execution_count": 51,
   "id": "e74551ac",
   "metadata": {},
   "outputs": [
    {
     "name": "stdout",
     "output_type": "stream",
     "text": [
      "1 aba aba\n",
      "2 bar bar\n",
      "3 calo calo\n"
     ]
    }
   ],
   "source": [
    "#zip\n",
    "#UNE 2 OU MAIS LISTAS\n",
    "\n",
    "lista1 = [1,2,3]\n",
    "lista2 = [\"aba\", \"bar\", \"calo\"]\n",
    "lista3 = [\"chapeu\", \"do ze\", \"no pé\"]\n",
    "\n",
    "for num, nome, cont in zip(lista1, lista2, lista2):\n",
    "    print(num, nome, cont)"
   ]
  },
  {
   "cell_type": "code",
   "execution_count": null,
   "id": "48fc0254",
   "metadata": {},
   "outputs": [],
   "source": [
    "#filter"
   ]
  }
 ],
 "metadata": {
  "kernelspec": {
   "display_name": "Python 3 (ipykernel)",
   "language": "python",
   "name": "python3"
  },
  "language_info": {
   "codemirror_mode": {
    "name": "ipython",
    "version": 3
   },
   "file_extension": ".py",
   "mimetype": "text/x-python",
   "name": "python",
   "nbconvert_exporter": "python",
   "pygments_lexer": "ipython3",
   "version": "3.9.12"
  }
 },
 "nbformat": 4,
 "nbformat_minor": 5
}
